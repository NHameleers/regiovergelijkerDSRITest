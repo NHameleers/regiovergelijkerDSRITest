{
 "cells": [
  {
   "cell_type": "code",
   "execution_count": 1,
   "id": "4d03b1d8",
   "metadata": {},
   "outputs": [
    {
     "data": {
      "application/vnd.jupyter.widget-view+json": {
       "model_id": "0012d838ada64421b67f29acf590b811",
       "version_major": 2,
       "version_minor": 0
      },
      "text/plain": [
       "Canvas(toolbar=Toolbar(toolitems=[('Home', 'Reset original view', 'home', 'home'), ('Back', 'Back to previous …"
      ]
     },
     "metadata": {},
     "output_type": "display_data"
    },
    {
     "data": {
      "image/png": "[encoded data removed]",
      "text/plain": [
       "<Figure size 640x480 with 1 Axes>"
      ]
     },
     "execution_count": 1,
     "metadata": {},
     "output_type": "execute_result"
    }
   ],
   "source": [
    "import matplotlib.pyplot as plt\n",
    "import mplcursors\n",
    "%matplotlib ipympl\n",
    "\n",
    "x = [0, 1, 1, 2]\n",
    "y= [1, 1, 2, 2]\n",
    "\n",
    "fig, ax = plt.subplots()\n",
    "sc = ax.scatter(x,y)# by default the tooltip is displayed \"onclick\"\n",
    "\n",
    "# we can change it by setting hover to True\n",
    "cursor = mplcursors.cursor(sc, hover=True)# by default the annotation displays the xy positions\n",
    "\n",
    "# this is to change it to the countries name\n",
    "@cursor.connect(\"add\")\n",
    "def on_add(sel):\n",
    "    sel.annotation.set(text=tt[sel.target.index])\n",
    "    \n",
    "fig"
   ]
  },
  {
   "cell_type": "code",
   "execution_count": null,
   "id": "f1536748",
   "metadata": {},
   "outputs": [],
   "source": []
  }
 ],
 "metadata": {
  "kernelspec": {
   "display_name": "Python [conda env:tool_gezondheidsverschillen_streamlit] *",
   "language": "python",
   "name": "conda-env-tool_gezondheidsverschillen_streamlit-py"
  },
  "language_info": {
   "codemirror_mode": {
    "name": "ipython",
    "version": 3
   },
   "file_extension": ".py",
   "mimetype": "text/x-python",
   "name": "python",
   "nbconvert_exporter": "python",
   "pygments_lexer": "ipython3",
   "version": "3.9.7"
  }
 },
 "nbformat": 4,
 "nbformat_minor": 5
}
